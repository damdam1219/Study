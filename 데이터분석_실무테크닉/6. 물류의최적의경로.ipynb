{
 "cells": [
  {
   "cell_type": "markdown",
   "id": "a7e79946",
   "metadata": {},
   "source": [
    "# 물류의 최적경로를 컨설팅하는 테크닉"
   ]
  },
  {
   "cell_type": "markdown",
   "id": "5e5a494a",
   "metadata": {},
   "source": [
    "### 1. 데이터 불러오기"
   ]
  },
  {
   "cell_type": "code",
   "execution_count": null,
   "id": "0b98ed60",
   "metadata": {},
   "outputs": [],
   "source": []
  }
 ],
 "metadata": {
  "kernelspec": {
   "display_name": "hi_ml_env",
   "language": "python",
   "name": "python3"
  },
  "language_info": {
   "codemirror_mode": {
    "name": "ipython",
    "version": 3
   },
   "file_extension": ".py",
   "mimetype": "text/x-python",
   "name": "python",
   "nbconvert_exporter": "python",
   "pygments_lexer": "ipython3",
   "version": "3.10.18"
  }
 },
 "nbformat": 4,
 "nbformat_minor": 5
}
