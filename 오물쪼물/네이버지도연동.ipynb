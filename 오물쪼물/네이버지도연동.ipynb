{
 "cells": [
  {
   "cell_type": "markdown",
   "id": "7ed4e45c",
   "metadata": {},
   "source": [
    "# 네이버지도 연동하기"
   ]
  },
  {
   "cell_type": "code",
   "execution_count": 1,
   "id": "429bab53",
   "metadata": {},
   "outputs": [
    {
     "name": "stdout",
     "output_type": "stream",
     "text": [
      "Requirement already satisfied: geopy in c:\\anaconda3\\envs\\hi_ml_env\\lib\\site-packages (2.4.1)\n",
      "Requirement already satisfied: geographiclib<3,>=1.52 in c:\\anaconda3\\envs\\hi_ml_env\\lib\\site-packages (from geopy) (2.0)\n"
     ]
    }
   ],
   "source": [
    "# 1️⃣ geopy 설치\n",
    "!pip install geopy"
   ]
  },
  {
   "cell_type": "code",
   "execution_count": 1,
   "id": "120601a2",
   "metadata": {},
   "outputs": [
    {
     "name": "stdout",
     "output_type": "stream",
     "text": [
      "1. AA정신건강의학과\n",
      "   거리: 0.83 km\n",
      "   평점: 4.2\n",
      "   리뷰: 편안했어요!\n",
      "---------------\n",
      "2. OO심리상담센터\n",
      "   거리: 1.42 km\n",
      "   평점: 4.5\n",
      "   리뷰: 친절하고 좋아요!\n",
      "---------------\n",
      "3. BB마음클리닉\n",
      "   거리: 2.09 km\n",
      "   평점: 4.7\n",
      "   리뷰: 상담이 좋아요!\n",
      "---------------\n"
     ]
    }
   ],
   "source": [
    "# 2️⃣ 모듈 가져오기\n",
    "from geopy.distance import geodesic\n",
    "\n",
    "# 3️⃣ 병원 더미 데이터\n",
    "hospitals = [\n",
    "    {\"name\": \"OO심리상담센터\", \"lat\": 37.57, \"lng\": 126.98, \"rating\": 4.5, \"review\": \"친절하고 좋아요!\"},\n",
    "    {\"name\": \"AA정신건강의학과\", \"lat\": 37.565, \"lng\": 126.977, \"rating\": 4.2, \"review\": \"편안했어요!\"},\n",
    "    {\"name\": \"BB마음클리닉\", \"lat\": 37.55, \"lng\": 126.99, \"rating\": 4.7, \"review\": \"상담이 좋아요!\"}\n",
    "]\n",
    "\n",
    "# 4️⃣ 사용자 위치 입력\n",
    "user_lat = 37.56  # 직접 숫자 넣기\n",
    "user_lng = 126.97\n",
    "user_location = (user_lat, user_lng)\n",
    "\n",
    "# 5️⃣ 거리 계산 + 병원에 추가\n",
    "for hospital in hospitals:\n",
    "    hospital_location = (hospital['lat'], hospital['lng'])\n",
    "    distance_km = geodesic(user_location, hospital_location).km\n",
    "    hospital['distance_km'] = round(distance_km, 2)\n",
    "\n",
    "# 6️⃣ 가까운 순 정렬\n",
    "sorted_hospitals = sorted(hospitals, key=lambda x: x['distance_km'])\n",
    "\n",
    "# 7️⃣ 출력\n",
    "for idx, h in enumerate(sorted_hospitals, 1):\n",
    "    print(f\"{idx}. {h['name']}\")\n",
    "    print(f\"   거리: {h['distance_km']} km\")\n",
    "    print(f\"   평점: {h['rating']}\")\n",
    "    print(f\"   리뷰: {h['review']}\")\n",
    "    print(\"---------------\")\n"
   ]
  },
  {
   "cell_type": "markdown",
   "id": "0e4667ae",
   "metadata": {},
   "source": [
    "✔ 1) 좌표 = 정적 데이터\n",
    "✔ 2) 리뷰/평점 = 외부/사용자/크롤링으로 유동적으로 채움\n",
    "✔ 3) 없는 건 NULL 처리 + UI에서 비어있다고 표시\n",
    "✔ 4) API 응답 구조는 항상 동일하게 유지"
   ]
  },
  {
   "cell_type": "code",
   "execution_count": 5,
   "id": "800dadf1",
   "metadata": {},
   "outputs": [
    {
     "name": "stdout",
     "output_type": "stream",
     "text": [
      "Collecting fastapi\n",
      "  Downloading fastapi-0.116.1-py3-none-any.whl.metadata (28 kB)\n",
      "Collecting uvicorn\n",
      "  Downloading uvicorn-0.35.0-py3-none-any.whl.metadata (6.5 kB)\n",
      "Collecting starlette<0.48.0,>=0.40.0 (from fastapi)\n",
      "  Downloading starlette-0.47.2-py3-none-any.whl.metadata (6.2 kB)\n",
      "Collecting pydantic!=1.8,!=1.8.1,!=2.0.0,!=2.0.1,!=2.1.0,<3.0.0,>=1.7.4 (from fastapi)\n",
      "  Downloading pydantic-2.11.7-py3-none-any.whl.metadata (67 kB)\n",
      "Requirement already satisfied: typing-extensions>=4.8.0 in c:\\anaconda3\\envs\\hi_ml_env\\lib\\site-packages (from fastapi) (4.14.1)\n",
      "Collecting annotated-types>=0.6.0 (from pydantic!=1.8,!=1.8.1,!=2.0.0,!=2.0.1,!=2.1.0,<3.0.0,>=1.7.4->fastapi)\n",
      "  Downloading annotated_types-0.7.0-py3-none-any.whl.metadata (15 kB)\n",
      "Collecting pydantic-core==2.33.2 (from pydantic!=1.8,!=1.8.1,!=2.0.0,!=2.0.1,!=2.1.0,<3.0.0,>=1.7.4->fastapi)\n",
      "  Downloading pydantic_core-2.33.2-cp310-cp310-win_amd64.whl.metadata (6.9 kB)\n",
      "Collecting typing-inspection>=0.4.0 (from pydantic!=1.8,!=1.8.1,!=2.0.0,!=2.0.1,!=2.1.0,<3.0.0,>=1.7.4->fastapi)\n",
      "  Downloading typing_inspection-0.4.1-py3-none-any.whl.metadata (2.6 kB)\n",
      "Collecting anyio<5,>=3.6.2 (from starlette<0.48.0,>=0.40.0->fastapi)\n",
      "  Downloading anyio-4.9.0-py3-none-any.whl.metadata (4.7 kB)\n",
      "Requirement already satisfied: exceptiongroup>=1.0.2 in c:\\anaconda3\\envs\\hi_ml_env\\lib\\site-packages (from anyio<5,>=3.6.2->starlette<0.48.0,>=0.40.0->fastapi) (1.3.0)\n",
      "Requirement already satisfied: idna>=2.8 in c:\\anaconda3\\envs\\hi_ml_env\\lib\\site-packages (from anyio<5,>=3.6.2->starlette<0.48.0,>=0.40.0->fastapi) (3.10)\n",
      "Collecting sniffio>=1.1 (from anyio<5,>=3.6.2->starlette<0.48.0,>=0.40.0->fastapi)\n",
      "  Downloading sniffio-1.3.1-py3-none-any.whl.metadata (3.9 kB)\n",
      "Requirement already satisfied: click>=7.0 in c:\\anaconda3\\envs\\hi_ml_env\\lib\\site-packages (from uvicorn) (8.2.1)\n",
      "Collecting h11>=0.8 (from uvicorn)\n",
      "  Downloading h11-0.16.0-py3-none-any.whl.metadata (8.3 kB)\n",
      "Requirement already satisfied: colorama in c:\\anaconda3\\envs\\hi_ml_env\\lib\\site-packages (from click>=7.0->uvicorn) (0.4.6)\n",
      "Downloading fastapi-0.116.1-py3-none-any.whl (95 kB)\n",
      "Downloading pydantic-2.11.7-py3-none-any.whl (444 kB)\n",
      "Downloading pydantic_core-2.33.2-cp310-cp310-win_amd64.whl (2.0 MB)\n",
      "   ---------------------------------------- 0.0/2.0 MB ? eta -:--:--\n",
      "   ---------------------------------------- 2.0/2.0 MB 18.0 MB/s eta 0:00:00\n",
      "Downloading starlette-0.47.2-py3-none-any.whl (72 kB)\n",
      "Downloading anyio-4.9.0-py3-none-any.whl (100 kB)\n",
      "Downloading uvicorn-0.35.0-py3-none-any.whl (66 kB)\n",
      "Downloading annotated_types-0.7.0-py3-none-any.whl (13 kB)\n",
      "Downloading h11-0.16.0-py3-none-any.whl (37 kB)\n",
      "Downloading sniffio-1.3.1-py3-none-any.whl (10 kB)\n",
      "Downloading typing_inspection-0.4.1-py3-none-any.whl (14 kB)\n",
      "Installing collected packages: typing-inspection, sniffio, pydantic-core, h11, annotated-types, uvicorn, pydantic, anyio, starlette, fastapi\n",
      "\n",
      "   ---- -----------------------------------  1/10 [sniffio]\n",
      "   ------------ ---------------------------  3/10 [h11]\n",
      "   ------------ ---------------------------  3/10 [h11]\n",
      "   ------------ ---------------------------  3/10 [h11]\n",
      "   -------------------- -------------------  5/10 [uvicorn]\n",
      "   -------------------- -------------------  5/10 [uvicorn]\n",
      "   -------------------- -------------------  5/10 [uvicorn]\n",
      "   -------------------- -------------------  5/10 [uvicorn]\n",
      "   -------------------- -------------------  5/10 [uvicorn]\n",
      "   -------------------- -------------------  5/10 [uvicorn]\n",
      "   ------------------------ ---------------  6/10 [pydantic]\n",
      "   ------------------------ ---------------  6/10 [pydantic]\n",
      "   ------------------------ ---------------  6/10 [pydantic]\n",
      "   ------------------------ ---------------  6/10 [pydantic]\n",
      "   ------------------------ ---------------  6/10 [pydantic]\n",
      "   ------------------------ ---------------  6/10 [pydantic]\n",
      "   ------------------------ ---------------  6/10 [pydantic]\n",
      "   ------------------------ ---------------  6/10 [pydantic]\n",
      "   ------------------------ ---------------  6/10 [pydantic]\n",
      "   ------------------------ ---------------  6/10 [pydantic]\n",
      "   ------------------------ ---------------  6/10 [pydantic]\n",
      "   ------------------------ ---------------  6/10 [pydantic]\n",
      "   ------------------------ ---------------  6/10 [pydantic]\n",
      "   ------------------------ ---------------  6/10 [pydantic]\n",
      "   ------------------------ ---------------  6/10 [pydantic]\n",
      "   ------------------------ ---------------  6/10 [pydantic]\n",
      "   ------------------------ ---------------  6/10 [pydantic]\n",
      "   ---------------------------- -----------  7/10 [anyio]\n",
      "   ---------------------------- -----------  7/10 [anyio]\n",
      "   ---------------------------- -----------  7/10 [anyio]\n",
      "   ---------------------------- -----------  7/10 [anyio]\n",
      "   ---------------------------- -----------  7/10 [anyio]\n",
      "   ---------------------------- -----------  7/10 [anyio]\n",
      "   -------------------------------- -------  8/10 [starlette]\n",
      "   -------------------------------- -------  8/10 [starlette]\n",
      "   -------------------------------- -------  8/10 [starlette]\n",
      "   -------------------------------- -------  8/10 [starlette]\n",
      "   -------------------------------- -------  8/10 [starlette]\n",
      "   ------------------------------------ ---  9/10 [fastapi]\n",
      "   ------------------------------------ ---  9/10 [fastapi]\n",
      "   ------------------------------------ ---  9/10 [fastapi]\n",
      "   ------------------------------------ ---  9/10 [fastapi]\n",
      "   ------------------------------------ ---  9/10 [fastapi]\n",
      "   ------------------------------------ ---  9/10 [fastapi]\n",
      "   ------------------------------------ ---  9/10 [fastapi]\n",
      "   ---------------------------------------- 10/10 [fastapi]\n",
      "\n",
      "Successfully installed annotated-types-0.7.0 anyio-4.9.0 fastapi-0.116.1 h11-0.16.0 pydantic-2.11.7 pydantic-core-2.33.2 sniffio-1.3.1 starlette-0.47.2 typing-inspection-0.4.1 uvicorn-0.35.0\n"
     ]
    }
   ],
   "source": [
    "!pip install fastapi uvicorn"
   ]
  },
  {
   "cell_type": "code",
   "execution_count": 6,
   "id": "8934f501",
   "metadata": {},
   "outputs": [
    {
     "ename": "FileNotFoundError",
     "evalue": "[Errno 2] No such file or directory: 'hospitals.json'",
     "output_type": "error",
     "traceback": [
      "\u001b[1;31m---------------------------------------------------------------------------\u001b[0m",
      "\u001b[1;31mFileNotFoundError\u001b[0m                         Traceback (most recent call last)",
      "Cell \u001b[1;32mIn[6], line 9\u001b[0m\n\u001b[0;32m      6\u001b[0m app \u001b[38;5;241m=\u001b[39m FastAPI()\n\u001b[0;32m      8\u001b[0m \u001b[38;5;66;03m# JSON 파일에서 병원 데이터 로드\u001b[39;00m\n\u001b[1;32m----> 9\u001b[0m \u001b[38;5;28;01mwith\u001b[39;00m \u001b[38;5;28;43mopen\u001b[39;49m\u001b[43m(\u001b[49m\u001b[38;5;124;43m'\u001b[39;49m\u001b[38;5;124;43mhospitals.json\u001b[39;49m\u001b[38;5;124;43m'\u001b[39;49m\u001b[43m,\u001b[49m\u001b[43m \u001b[49m\u001b[38;5;124;43m'\u001b[39;49m\u001b[38;5;124;43mr\u001b[39;49m\u001b[38;5;124;43m'\u001b[39;49m\u001b[43m,\u001b[49m\u001b[43m \u001b[49m\u001b[43mencoding\u001b[49m\u001b[38;5;241;43m=\u001b[39;49m\u001b[38;5;124;43m'\u001b[39;49m\u001b[38;5;124;43mutf-8\u001b[39;49m\u001b[38;5;124;43m'\u001b[39;49m\u001b[43m)\u001b[49m \u001b[38;5;28;01mas\u001b[39;00m f:\n\u001b[0;32m     10\u001b[0m     hospitals \u001b[38;5;241m=\u001b[39m json\u001b[38;5;241m.\u001b[39mload(f)\n\u001b[0;32m     12\u001b[0m \u001b[38;5;66;03m# 여기서 프론트엔드에서 사용자가 주소입력하면 좌표로 변환, 변환값과 함께 API호출.\u001b[39;00m\n",
      "File \u001b[1;32mc:\\Anaconda3\\envs\\hi_ml_env\\lib\\site-packages\\IPython\\core\\interactiveshell.py:324\u001b[0m, in \u001b[0;36m_modified_open\u001b[1;34m(file, *args, **kwargs)\u001b[0m\n\u001b[0;32m    317\u001b[0m \u001b[38;5;28;01mif\u001b[39;00m file \u001b[38;5;129;01min\u001b[39;00m {\u001b[38;5;241m0\u001b[39m, \u001b[38;5;241m1\u001b[39m, \u001b[38;5;241m2\u001b[39m}:\n\u001b[0;32m    318\u001b[0m     \u001b[38;5;28;01mraise\u001b[39;00m \u001b[38;5;167;01mValueError\u001b[39;00m(\n\u001b[0;32m    319\u001b[0m         \u001b[38;5;124mf\u001b[39m\u001b[38;5;124m\"\u001b[39m\u001b[38;5;124mIPython won\u001b[39m\u001b[38;5;124m'\u001b[39m\u001b[38;5;124mt let you open fd=\u001b[39m\u001b[38;5;132;01m{\u001b[39;00mfile\u001b[38;5;132;01m}\u001b[39;00m\u001b[38;5;124m by default \u001b[39m\u001b[38;5;124m\"\u001b[39m\n\u001b[0;32m    320\u001b[0m         \u001b[38;5;124m\"\u001b[39m\u001b[38;5;124mas it is likely to crash IPython. If you know what you are doing, \u001b[39m\u001b[38;5;124m\"\u001b[39m\n\u001b[0;32m    321\u001b[0m         \u001b[38;5;124m\"\u001b[39m\u001b[38;5;124myou can use builtins\u001b[39m\u001b[38;5;124m'\u001b[39m\u001b[38;5;124m open.\u001b[39m\u001b[38;5;124m\"\u001b[39m\n\u001b[0;32m    322\u001b[0m     )\n\u001b[1;32m--> 324\u001b[0m \u001b[38;5;28;01mreturn\u001b[39;00m io_open(file, \u001b[38;5;241m*\u001b[39margs, \u001b[38;5;241m*\u001b[39m\u001b[38;5;241m*\u001b[39mkwargs)\n",
      "\u001b[1;31mFileNotFoundError\u001b[0m: [Errno 2] No such file or directory: 'hospitals.json'"
     ]
    }
   ],
   "source": [
    "from fastapi import FastAPI, Query\n",
    "from fastapi.responses import JSONResponse\n",
    "from geopy.distance import geodesic\n",
    "import json\n",
    "\n",
    "app = FastAPI()\n",
    "\n",
    "# JSON 파일에서 병원 데이터 로드\n",
    "with open('hospitals.json', 'r', encoding='utf-8') as f:\n",
    "    hospitals = json.load(f)\n",
    "\n",
    "# 여기서 프론트엔드에서 사용자가 주소입력하면 좌표로 변환, 변환값과 함께 API호출.\n",
    "@app.get(\"/api/hospitals\")\n",
    "async def get_hospitals(lat: float = Query(...), lng: float = Query(...)):\n",
    "    user_location = (lat, lng)\n",
    "\n",
    "    results = []\n",
    "    for h in hospitals:\n",
    "        hospital_location = (h['lat'], h['lng'])\n",
    "        distance_km = geodesic(user_location, hospital_location).km \n",
    "        # geodesic: 두 점사이의 '최단경로거리' 즉, 지구의 곡면을 따라 재는 킬로미터 단위계산\n",
    "        h_with_distance = h.copy()\n",
    "        h_with_distance['distance_km'] = round(distance_km, 2)\n",
    "        results.append(h_with_distance)\n",
    "\n",
    "    # 거리순 정렬\n",
    "    results.sort(key=lambda x: x['distance_km'])\n",
    "\n",
    "    return JSONResponse(content=results)\n"
   ]
  },
  {
   "cell_type": "code",
   "execution_count": null,
   "id": "d10e900a",
   "metadata": {},
   "outputs": [],
   "source": []
  }
 ],
 "metadata": {
  "kernelspec": {
   "display_name": "hi_ml_env",
   "language": "python",
   "name": "python3"
  },
  "language_info": {
   "codemirror_mode": {
    "name": "ipython",
    "version": 3
   },
   "file_extension": ".py",
   "mimetype": "text/x-python",
   "name": "python",
   "nbconvert_exporter": "python",
   "pygments_lexer": "ipython3",
   "version": "3.10.18"
  }
 },
 "nbformat": 4,
 "nbformat_minor": 5
}
